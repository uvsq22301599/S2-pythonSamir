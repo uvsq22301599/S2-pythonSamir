{
 "cells": [
  {
   "cell_type": "markdown",
   "metadata": {},
   "source": [
    "# <center> Dictionnaires - TD </center>"
   ]
  },
  {
   "cell_type": "markdown",
   "metadata": {},
   "source": [
    "## Exercice 1 : Test de de compréhension*"
   ]
  },
  {
   "cell_type": "markdown",
   "metadata": {},
   "source": [
    "* Soit le dictionnaire suivant représentant des informations sur les étudiants inscrits au cours"
   ]
  },
  {
   "cell_type": "code",
   "execution_count": 2,
   "metadata": {},
   "outputs": [],
   "source": [
    "cours = {'nom cours': 'Java',\n",
    " 'theme': 'Algorithmique',\n",
    " 'etudiants': [{'nom': 'Martin', 'prenom': 'Jean', 'Dept': '95'},\n",
    "  {'nom': 'Mohamed', 'prenom': 'Ali', 'Dept': '93'},\n",
    "  {'nom': 'Durand', 'prenom': 'Bertrand', 'Dept': '95'}]}"
   ]
  },
  {
   "cell_type": "markdown",
   "metadata": {},
   "source": [
    "* Que permettent de faire les commandes suivantes ?"
   ]
  },
  {
   "cell_type": "code",
   "execution_count": 3,
   "metadata": {},
   "outputs": [
    {
     "name": "stdout",
     "output_type": "stream",
     "text": [
      "['Java', 'Algorithmique', [{'nom': 'Martin', 'prenom': 'Jean', 'Dept': '95'}, {'nom': 'Mohamed', 'prenom': 'Ali', 'Dept': '93'}, {'nom': 'Durand', 'prenom': 'Bertrand', 'Dept': '95'}]]\n"
     ]
    }
   ],
   "source": [
    "print(list(cours.values()))"
   ]
  },
  {
   "cell_type": "code",
   "execution_count": 4,
   "metadata": {},
   "outputs": [
    {
     "name": "stdout",
     "output_type": "stream",
     "text": [
      "['nom cours', 'theme', 'etudiants']\n"
     ]
    }
   ],
   "source": [
    "print(list(cours))"
   ]
  },
  {
   "cell_type": "code",
   "execution_count": 5,
   "metadata": {},
   "outputs": [
    {
     "name": "stdout",
     "output_type": "stream",
     "text": [
      "Algorithmique\n"
     ]
    }
   ],
   "source": [
    "print(cours['theme'])"
   ]
  },
  {
   "cell_type": "code",
   "execution_count": 6,
   "metadata": {},
   "outputs": [
    {
     "name": "stdout",
     "output_type": "stream",
     "text": [
      "Martin\n"
     ]
    }
   ],
   "source": [
    "tabE=cours['etudiants']\n",
    "etud= tabE[0]\n",
    "print(etud['nom'])"
   ]
  },
  {
   "cell_type": "markdown",
   "metadata": {},
   "source": [
    "**REPONSE**"
   ]
  },
  {
   "cell_type": "markdown",
   "metadata": {},
   "source": [
    "* Comment peut-on avoir les informations sur les étudiants inscrits à ce cours  ?"
   ]
  },
  {
   "cell_type": "code",
   "execution_count": 7,
   "metadata": {},
   "outputs": [
    {
     "name": "stdout",
     "output_type": "stream",
     "text": [
      "[{'nom': 'Martin', 'prenom': 'Jean', 'Dept': '95'}, {'nom': 'Mohamed', 'prenom': 'Ali', 'Dept': '93'}, {'nom': 'Durand', 'prenom': 'Bertrand', 'Dept': '95'}]\n"
     ]
    }
   ],
   "source": [
    "#-------------------------#\n",
    "#    Écrire le code ici   #\n",
    "#-------------------------#\n",
    "\n",
    "print(cours[\"etudiants\"])"
   ]
  },
  {
   "cell_type": "markdown",
   "metadata": {
    "deletable": false,
    "editable": false,
    "run_control": {
     "frozen": true
    }
   },
   "source": [
    "* Qu'affiche le programme suivant ?"
   ]
  },
  {
   "cell_type": "code",
   "execution_count": 8,
   "metadata": {},
   "outputs": [
    {
     "name": "stdout",
     "output_type": "stream",
     "text": [
      "{'nom': 'Mohamed', 'prenom': 'Ali', 'Dept': '93'}\n",
      "93\n"
     ]
    }
   ],
   "source": [
    "etds=cours['etudiants']\n",
    "tmp1=etds[1]\n",
    "print(tmp1)\n",
    "pr=tmp1['Dept']\n",
    "print(pr)"
   ]
  },
  {
   "cell_type": "markdown",
   "metadata": {},
   "source": [
    "**REPONSE**"
   ]
  },
  {
   "cell_type": "markdown",
   "metadata": {
    "deletable": false,
    "editable": false,
    "run_control": {
     "frozen": true
    }
   },
   "source": [
    "* Qu'affiche cette instruction ?"
   ]
  },
  {
   "cell_type": "code",
   "execution_count": null,
   "metadata": {},
   "outputs": [],
   "source": [
    "print (cours['etudiants'][1]['Dept'])"
   ]
  },
  {
   "cell_type": "markdown",
   "metadata": {},
   "source": [
    "**REPONSE**"
   ]
  },
  {
   "cell_type": "markdown",
   "metadata": {
    "deletable": false,
    "editable": false,
    "run_control": {
     "frozen": true
    }
   },
   "source": [
    "## Exercice 2 : Planètes et satellites \n",
    "### Question 1 : Définition d'un dictionnaire"
   ]
  },
  {
   "cell_type": "markdown",
   "metadata": {
    "deletable": false,
    "editable": false,
    "run_control": {
     "frozen": true
    }
   },
   "source": [
    "Définir le dictionnaire `lunes` représenté ci-dessous. Ce dictionnaire stocke le nombre de satellites de chaque planète. Dans un premier temps, définir de façon littérale le dictionnaire pour les 4 premiers couples ``clef:valeur`` puis ajouter successivement les 4 derniers couples.\n",
    "\n",
    "clef| \"Mercure\"|\"Vénus\"|\"Terre\"|\"Mars\"|\"Jupiter\"|\"Saturne\"|\"Uranus\"|\"Neptune\"|\n",
    "----|----------|-------|-------|------|---------|---------|--------|---------|\n",
    "valeur |0|0|1|2|63|61|27|11|\n"
   ]
  },
  {
   "cell_type": "code",
   "execution_count": 10,
   "metadata": {},
   "outputs": [],
   "source": [
    "#-------------------------#\n",
    "#    Écrire le code ici   #\n",
    "#-------------------------#\n",
    "lunes = {\"Mercure\" : 0, \"Vénus\": 0, \"Terre\" : 1, \"Mars\": 2}\n",
    "\n",
    "lunes[\"Jupiter\"]= 63\n",
    "lunes[\"Saturne\"]= 61\n",
    "lunes[\"Uranus\"] = 27\n",
    "lunes[\"Neptune\"] = 11"
   ]
  },
  {
   "cell_type": "markdown",
   "metadata": {
    "deletable": false,
    "editable": false,
    "run_control": {
     "frozen": true
    }
   },
   "source": [
    "### Question 2 : Exploration d'un dictionnaire\n",
    "\n",
    "A partir du dictionnaire défini à la question précédente, proposer un programme permettant de:\n",
    "- modifier le dictionnaire précédent pour corriger une erreur qui s'est glissée dans l'énoncé : la planète `Neptune` comporte en fait 13 satellites,\n",
    "- afficher le nombre de satellites de la Terre,\n",
    "- afficher la liste des planètes,\n",
    "- afficher le nombre de satellites de chque planète,\n",
    "- afficher le nombre total de satellites."
   ]
  },
  {
   "cell_type": "code",
   "execution_count": 17,
   "metadata": {},
   "outputs": [
    {
     "name": "stdout",
     "output_type": "stream",
     "text": [
      "1\n",
      "dict_keys(['Mercure', 'Vénus', 'Terre', 'Mars', 'Jupiter', 'Saturne', 'Uranus', 'Neptune'])\n",
      "Mercure   0\n",
      "Vénus   0\n",
      "Terre   1\n",
      "Mars   2\n",
      "Jupiter   63\n",
      "Saturne   61\n",
      "Uranus   27\n",
      "Neptune   13\n",
      "167\n"
     ]
    }
   ],
   "source": [
    "#-------------------------#\n",
    "#    Écrire le code ici   #\n",
    "#-------------------------#\n",
    "\n",
    "lunes[\"Neptune\"] = 13\n",
    "print(lunes[\"Terre\"])\n",
    "\n",
    "print(lunes.keys())\n",
    "\n",
    "for i in lunes.keys():\n",
    "    print(f'{i}   {lunes[i]}')\n",
    "\n",
    "print(sum(lunes.values()))\n",
    "\n",
    "\n"
   ]
  },
  {
   "cell_type": "markdown",
   "metadata": {
    "deletable": false,
    "editable": false,
    "run_control": {
     "frozen": true
    }
   },
   "source": [
    "## Exercice 3 : Gestion d'un stock "
   ]
  },
  {
   "cell_type": "markdown",
   "metadata": {
    "deletable": false,
    "editable": false,
    "run_control": {
     "frozen": true
    }
   },
   "source": [
    "L'objectif est concevoir un programme permettant de gérer un stock d'articles. Pour cela, on doit pouvoir :\n",
    "- ajouter une référence (prix, quantité, et couleur) dans le stock,\n",
    "- calculer le prix total du stock.\n",
    "\n",
    "### Question 1 : Saisie d'une référence\n",
    "Créer une fonction ``ajout_reference()`` sans paramètre qui renvoie un dictionnaire dont les couples ``clef:valeur`` sont:\n",
    "\n",
    "| Clef |  Valeur (type) |\n",
    "-------|----------|\n",
    "|\"Prix\"| float|\n",
    "|\"Quantité\"| int|\n",
    "|\"Couleur\"| string|\n",
    "\n",
    "La fonction demandera à l'utilisateur de saisir itérativement au clavier les différentes valeurs."
   ]
  },
  {
   "cell_type": "code",
   "execution_count": 20,
   "metadata": {},
   "outputs": [
    {
     "data": {
      "text/plain": [
       "{'Prix': 56.0, 'Quantité': 8, 'Couleur': 'bleue'}"
      ]
     },
     "execution_count": 20,
     "metadata": {},
     "output_type": "execute_result"
    }
   ],
   "source": [
    "#-------------------------#\n",
    "#    Écrire le code ici   #\n",
    "#-------------------------#\n",
    "\n",
    "def ajout_ference():\n",
    "    mydict = {}\n",
    "    mydict[\"Prix\"] = float(input('Quel est le prix '))\n",
    "    mydict[\"Quantité\"] = int(input(\"Quelle est la quantité \"))\n",
    "    mydict[\"Couleur\"] = str(input(\"Quelle est la couleur \"))\n",
    "    return mydict\n",
    "\n",
    "ajout_ference()"
   ]
  },
  {
   "cell_type": "markdown",
   "metadata": {
    "deletable": false,
    "editable": false,
    "run_control": {
     "frozen": true
    }
   },
   "source": [
    "### Question 2 : Saisie et évaluation d'un stock\n",
    "Ecrire le programme principal permettant, de saisir des références tant que l'utilisateur le souhaite, de les ajouter au fur et à mesure dans un tableau, puis en fin de saisie, d'afficher le montant total du stock.\n",
    "On utilisera la fonction définie à la question précédente."
   ]
  },
  {
   "cell_type": "code",
   "execution_count": 10,
   "metadata": {},
   "outputs": [],
   "source": [
    "#-------------------------#\n",
    "#    Écrire le code ici   #\n",
    "#-------------------------#\n",
    "\n",
    "mydict = {}\n",
    "\n",
    "mydict[\"Prix\"] = float(input('Quel est le prix '))\n",
    "mydict[\"Quantité\"] = int(input(\"Quelle est la quantité \"))\n",
    "mydict[\"Couleur\"] = str(input(\"Quelle est la couleur \"))\n",
    "answer = input(\"Voulez vous encore entrer des valeurs \")\n",
    "\n",
    "while answer == \"oui\" or answer == \"yes\":\n",
    "    mydict[\"Prix\"] = float(int(input('Quel est le nouveau prix ')))\n",
    "    mydict[\"Quantité\"] += int(input(\"Quelle est la nouvelle quantité \"))\n",
    "    mydict[\"Couleur\"] += str(input(\"Quelle est la nouvelle couleur \"))\n",
    "    answer = input(\"Voulez vous encore entrer des valeurs \")\n"
   ]
  },
  {
   "cell_type": "markdown",
   "metadata": {
    "deletable": false,
    "editable": false,
    "run_control": {
     "frozen": true
    }
   },
   "source": [
    "## Exercice 4 :  Dictionnaire français-anglais "
   ]
  },
  {
   "cell_type": "markdown",
   "metadata": {},
   "source": [
    "### Question 1  : Création d'un dictionnaire\n",
    "\n",
    "Choisir 5 mots de la langue française et créer un dictionnaire qui associe à chacun de ces mots\n",
    "sa traduction en anglais.\n",
    "Ajouter une entrée au dictionnaire  (un nouveau mot et sa définition)."
   ]
  },
  {
   "cell_type": "code",
   "execution_count": 12,
   "metadata": {},
   "outputs": [
    {
     "name": "stdout",
     "output_type": "stream",
     "text": [
      "{'Air': \"Fluide gazeux formant l'atmosphère\", 'Aire': 'Surface plane', 'Ére': 'Espace de temps de longue durée', 'Erre': \"Vitesse résiduelle d'un navire sur lequel n'agit plus le propulseur\", 'Hère': \"Jeune cerf de plus de six mois qui n'est pas encore daguet\", 'mpmpmp': 'mpmpmp'}\n"
     ]
    }
   ],
   "source": [
    "#-------------------------#\n",
    "#    Écrire le code ici   #\n",
    "#-------------------------#\n",
    "\n",
    "answer = \"yes\"\n",
    "mydict = {\"Air\" : \"Fluide gazeux formant l'atmosphère\",\n",
    "          \"Aire\" : \"Surface plane\" ,\n",
    "          \"Ére\" : \"Espace de temps de longue durée\",\n",
    "          \"Erre\" : \"Vitesse résiduelle d'un navire sur lequel n'agit plus le propulseur\",\n",
    "          \"Hère\" : \"Jeune cerf de plus de six mois qui n'est pas encore daguet\" }\n",
    "\n",
    "while answer == \"yes\" or answer == \"oui\":\n",
    "    key = input(\"Quel est le mot ? \")\n",
    "    value = input(\"Quelle est la definition ? \")\n",
    "    mydict[key] = value\n",
    "    answer = input(\"voulez vous ajouter un autre mot ? \")\n",
    "\n",
    "print(mydict)"
   ]
  },
  {
   "cell_type": "markdown",
   "metadata": {},
   "source": [
    "### Question 2  : Fonction d'ajout \n",
    "Écrire une fonction `ajoute(mot1, mot2, dico)` qui prend en paramètre un mot en français, sa traduction\n",
    "en anglais et ajoute ces deux mots dans le dictionnaire `dico` uniquement si `mot1` n’est pas déjà une clé\n",
    "du dictionnaire.\n",
    "\n",
    "Tester cette fonction avec des valeurs judicieusement choisies."
   ]
  },
  {
   "cell_type": "code",
   "execution_count": 4,
   "metadata": {},
   "outputs": [
    {
     "data": {
      "text/plain": [
       "{'Pomme': 'Apple', 'Crocodile': 'Aligator', 'Bench': 225}"
      ]
     },
     "execution_count": 4,
     "metadata": {},
     "output_type": "execute_result"
    }
   ],
   "source": [
    "#-------------------------#\n",
    "#    Écrire le code ici   #\n",
    "#-------------------------#\n",
    "\n",
    "mydict = {\"Pomme\": \"Apple\", \"Crocodile\": \"Aligator\"}\n",
    "\n",
    "def ajoute(mot1,mot2,dico):\n",
    "    if mot1 in (dico.keys()) : \n",
    "        pass\n",
    "    else :\n",
    "        dico[mot1]= mot2\n",
    "    return dico\n",
    "\n",
    "ajoute(\"Pomme\", \"Apple\", mydict)\n",
    "ajoute(\"Bench\", 225, mydict)"
   ]
  },
  {
   "cell_type": "markdown",
   "metadata": {},
   "source": [
    "### Question 3  : Affichage des valeurs\n",
    "Écrire une fonction qui affiche à l’écran toutes les valeurs correspondant aux clés qui sont dans\n",
    "votre dictionnaire  et l'utiliser pour réaliser l'affichage des mots anglais du dictionnaire qui a été crée."
   ]
  },
  {
   "cell_type": "code",
   "execution_count": 9,
   "metadata": {},
   "outputs": [
    {
     "name": "stdout",
     "output_type": "stream",
     "text": [
      "Apple Aligator "
     ]
    }
   ],
   "source": [
    "#-------------------------#\n",
    "#    Écrire le code ici   #\n",
    "#-------------------------#\n",
    "mydict = {\"Pomme\": \"Apple\", \"Crocodile\": \"Aligator\"}\n",
    "\n",
    "def affiche_valeurs(dico):\n",
    "    for i in dico.values():\n",
    "        print(i, end=\" \")\n",
    "\n",
    "affiche_valeurs(mydict)"
   ]
  },
  {
   "cell_type": "markdown",
   "metadata": {},
   "source": [
    "### Question 4 : Suppression d'entrées du dictionnaire\n",
    "Écrire une fonction `supprime(car, dico)` qui prend en paramètre un caractère `car` et un dictionnaire\n",
    "`dico` et supprime du dictionnaire toutes les entrées correspondant à des clés qui commencent par la\n",
    "lettre `car`.\n",
    "\n",
    "Tester cette fonction sur le dictionnaire."
   ]
  },
  {
   "cell_type": "code",
   "execution_count": 18,
   "metadata": {},
   "outputs": [
    {
     "data": {
      "text/plain": [
       "{'Pomme': 'Apple', 'Crocodile': 'Aligator'}"
      ]
     },
     "execution_count": 18,
     "metadata": {},
     "output_type": "execute_result"
    }
   ],
   "source": [
    "#-------------------------#\n",
    "#    Écrire le code ici   #\n",
    "#-------------------------#\n",
    "mydict = {\"Pomme\": \"Apple\", \"Crocodile\": \"Aligator\", \"Arbre\": \"Tree\", \"Arabica\" : \"Arabica\", \"Alphabet\": \"Alphabet\"}\n",
    "\n",
    "def supprime(car, dico):\n",
    "    dico = {k : v for k,v in dico.items() if k[0]!= car}\n",
    "    return dico\n",
    "\n",
    "supprime(\"A\", mydict)\n"
   ]
  },
  {
   "cell_type": "markdown",
   "metadata": {},
   "source": [
    "## Exercice 5 : Codage de Morse"
   ]
  },
  {
   "cell_type": "markdown",
   "metadata": {},
   "source": [
    "Le Morse est un schéma de codage qui utilise des tirets et des points pour représenter les chiffres et les lettres. \n",
    "\n",
    "Le dictionnaire ci-dessous donne la correspondance entre les lettres et les chiffres, les tirets et les points. "
   ]
  },
  {
   "cell_type": "code",
   "execution_count": 19,
   "metadata": {},
   "outputs": [],
   "source": [
    "morse_code_dict = {'A':'.-'   , 'B':'-...' , 'C':'-.-.' , 'D':'-..'  , 'E':'.'    , 'F':'..-.' , 'G':'--.'  , \n",
    "                   'H':'....' , 'I':'..'   , 'J':'.---' , 'K':'-.-'  , 'L':'.-..' , 'M':'--'   , 'N':'-.'   , \n",
    "                   'O':'---'  , 'P':'.--.' , 'Q':'--.-' , 'R':'.-.'  , 'S':'...'  , 'T':'-'    , 'U':'..-'  , \n",
    "                   'V':'...-' , 'W':'.--'  , 'X':'-..-' , 'Y':'-.--' , 'Z':'--..' , '0':'-----', '1':'.----', \n",
    "                   '2':'..---', '3':'...--', '4':'....-', '5':'.....', '6':'-....', '7':'--...', '8':'---..', \n",
    "                   '9':'----.'}"
   ]
  },
  {
   "cell_type": "markdown",
   "metadata": {},
   "source": [
    "Ecrire une fonction qui prend en paramètre un texte, transforme les minuscules en majuscules et traduit chaque lettre et chaque chiffre du texte en code Morse, en laissant un espace entre chaque suite de tirets et de points. La fonction ignorera tous les caractères qui ne sont pas des lettres ou des chiffres. \n",
    "\n",
    "Utiliser cette fonction pour coder en Morse `Hello world !`.\n",
    "\n",
    "**Rappel** : \n",
    "\n",
    "- La méthode `chaine.upper()` retourne la chaine de caractères obtenue à partir de `chaine`en remplaçant les lettres minuscules par des lettres majuscules.\n",
    "- La méthode `chaine.isalnum()` retoune `True` si tous les caractères de `chaine`sont alphanumériques (lettres ou chiffres) et qu'il y a au moins un caractère et `False` dans le cas contraire."
   ]
  },
  {
   "cell_type": "code",
   "execution_count": 27,
   "metadata": {},
   "outputs": [
    {
     "data": {
      "text/plain": [
       "'.... . .-.. .-.. ---   .-- --- .-. .-.. -..   ! '"
      ]
     },
     "execution_count": 27,
     "metadata": {},
     "output_type": "execute_result"
    }
   ],
   "source": [
    "#-------------------------#\n",
    "#    Écrire le code ici   #\n",
    "#-------------------------#\n",
    "\n",
    "def codage_morse(text):\n",
    "    text = text.upper()\n",
    "    morse_txt = \"\"\n",
    "    for c in text :\n",
    "        if c in morse_code_dict.keys():\n",
    "            morse_txt += f\"{morse_code_dict[c]} \"\n",
    "        else :\n",
    "            morse_txt += f\"{c} \"\n",
    "    text = morse_txt\n",
    "    return text\n",
    "\n",
    "codage_morse(\"Hello world !\")\n",
    "\n",
    "\n"
   ]
  }
 ],
 "metadata": {
  "celltoolbar": "Format de la Cellule Texte Brut",
  "kernelspec": {
   "display_name": "Python 3",
   "language": "python",
   "name": "python3"
  },
  "language_info": {
   "codemirror_mode": {
    "name": "ipython",
    "version": 3
   },
   "file_extension": ".py",
   "mimetype": "text/x-python",
   "name": "python",
   "nbconvert_exporter": "python",
   "pygments_lexer": "ipython3",
   "version": "3.12.1"
  },
  "latex_envs": {
   "LaTeX_envs_menu_present": true,
   "autoclose": false,
   "autocomplete": true,
   "bibliofile": "biblio.bib",
   "cite_by": "apalike",
   "current_citInitial": 1,
   "eqLabelWithNumbers": true,
   "eqNumInitial": 1,
   "hotkeys": {
    "equation": "Ctrl-E",
    "itemize": "Ctrl-I"
   },
   "labels_anchors": false,
   "latex_user_defs": false,
   "report_style_numbering": false,
   "user_envs_cfg": false
  },
  "toc": {
   "base_numbering": 1,
   "nav_menu": {},
   "number_sections": true,
   "sideBar": true,
   "skip_h1_title": false,
   "title_cell": "Table of Contents",
   "title_sidebar": "Contents",
   "toc_cell": false,
   "toc_position": {},
   "toc_section_display": true,
   "toc_window_display": false
  }
 },
 "nbformat": 4,
 "nbformat_minor": 2
}
